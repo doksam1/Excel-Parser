{
 "cells": [
  {
   "cell_type": "code",
   "execution_count": 1,
   "metadata": {},
   "outputs": [],
   "source": [
    "import pandas as pd \n",
    "import numpy as np\n",
    "from methods import data_retrieval"
   ]
  },
  {
   "cell_type": "code",
   "execution_count": 2,
   "metadata": {},
   "outputs": [],
   "source": [
    "file_path = \"C:/Users/cameronshaw/Documents/Affordable Research/All Applications Since 2022/first_round_2024/24-408.xlsx\""
   ]
  },
  {
   "cell_type": "code",
   "execution_count": 3,
   "metadata": {},
   "outputs": [
    {
     "name": "stderr",
     "output_type": "stream",
     "text": [
      "c:\\Users\\cameronshaw\\AppData\\Local\\Programs\\Python\\Python311\\Lib\\site-packages\\openpyxl\\reader\\excel.py:249: UserWarning: Cell 'Basis & Credits':S21 is part of a merged range but has a comment which will be removed because merged cells cannot contain any data.\n",
      "  warnings.warn(comment_warning.format(ws.title, c.coordinate))\n",
      "c:\\Users\\cameronshaw\\AppData\\Local\\Programs\\Python\\Python311\\Lib\\site-packages\\openpyxl\\reader\\excel.py:249: UserWarning: Cell 'Basis & Credits':S23 is part of a merged range but has a comment which will be removed because merged cells cannot contain any data.\n",
      "  warnings.warn(comment_warning.format(ws.title, c.coordinate))\n"
     ]
    },
    {
     "name": "stdout",
     "output_type": "stream",
     "text": [
      "returning started:C:/Users/cameronshaw/Documents/Affordable Research/All Applications Since 2022/first_round_2024/24-408.xlsx\n",
      "data returned:C:/Users/cameronshaw/Documents/Affordable Research/All Applications Since 2022/first_round_2024/24-408.xlsx\n"
     ]
    },
    {
     "data": {
      "text/plain": [
       "['CA-24-408',\n",
       " 'I acknowledge that if I obtain an allocation of Federal or State Tax Credits, I will be required to enter into a regulatory contract that will contain, among other things, all the conditions under which the Credits were provided including the selection criteria delineated in this application.']"
      ]
     },
     "execution_count": 3,
     "metadata": {},
     "output_type": "execute_result"
    }
   ],
   "source": [
    "dr = data_retrieval()\n",
    "dr.get_CTCHC_data(file_path, ['A86'], 'Application')"
   ]
  },
  {
   "cell_type": "code",
   "execution_count": null,
   "metadata": {},
   "outputs": [],
   "source": []
  }
 ],
 "metadata": {
  "kernelspec": {
   "display_name": "Python 3",
   "language": "python",
   "name": "python3"
  },
  "language_info": {
   "codemirror_mode": {
    "name": "ipython",
    "version": 3
   },
   "file_extension": ".py",
   "mimetype": "text/x-python",
   "name": "python",
   "nbconvert_exporter": "python",
   "pygments_lexer": "ipython3",
   "version": "3.11.5"
  }
 },
 "nbformat": 4,
 "nbformat_minor": 2
}
