{
 "cells": [
  {
   "cell_type": "code",
   "execution_count": 7,
   "metadata": {},
   "outputs": [],
   "source": [
    "Accepted = [\n",
    "    \"CA-24-408\", \"CA-24-409\", \"CA-24-414\", \"CA-24-424\", \"CA-24-426\",\n",
    "    \"CA-24-427\", \"CA-24-428\", \"CA-24-433\", \"CA-24-434\", \"CA-24-435\",\n",
    "    \"CA-24-441\", \"CA-24-442\", \"CA-24-443\", \"CA-24-455\", \"CA-24-459\",\n",
    "    \"CA-24-460\", \"CA-24-467\", \"CA-24-469\", \"CA-24-470\", \"CA-24-471\",\n",
    "    \"CA-24-472\", \"CA-24-473\", \"CA-24-474\", \"CA-24-476\", \"CA-24-477\",\n",
    "    \"CA-24-478\", \"CA-24-481\", \"CA-24-482\", \"CA-24-483\", \"CA-24-485\",\n",
    "    \"CA-24-489\", \"CA-24-490\", \"CA-24-492\", \"CA-24-493\", \"CA-24-494\",\n",
    "    \"CA-24-497\", \"CA-24-500\", \"CA-24-502\", \"CA-24-503\", \"CA-24-504\",\n",
    "    \"CA-24-509\", \"CA-24-511\", \"CA-24-515\", \"CA-24-516\", \"CA-24-521\",\n",
    "    \"CA-24-522\", \"CA-24-524\", \"CA-24-525\", \"CA-24-527\", \"CA-24-528\",\n",
    "    \"CA-24-535\", \"CA-24-539\", \"CA-24-541\", \"CA-24-545\", \"CA-24-547\",\n",
    "    \"CA-24-549\", \"CA-24-552\", \"CA-24-553\", \"CA-24-554\", \"CA-24-558\",\n",
    "    \"CA-24-564\"\n",
    "]\n",
    "\n",
    "Accepted_new_construction_only = [\n",
    "    \"CA-24-414\",\n",
    "    \"CA-24-424\",\n",
    "    \"CA-24-426\",\n",
    "    \"CA-24-427\",\n",
    "    \"CA-24-428\",\n",
    "    \"CA-24-433\",\n",
    "    \"CA-24-434\",\n",
    "    \"CA-24-435\",\n",
    "    \"CA-24-441\",\n",
    "    \"CA-24-443\",\n",
    "    \"CA-24-455\",\n",
    "    \"CA-24-459\",\n",
    "    \"CA-24-460\",\n",
    "    \"CA-24-467\",\n",
    "    \"CA-24-469\",\n",
    "    \"CA-24-471\",\n",
    "    \"CA-24-472\",\n",
    "    \"CA-24-473\",\n",
    "    \"CA-24-474\",\n",
    "    \"CA-24-476\",\n",
    "    \"CA-24-477\",\n",
    "    \"CA-24-478\",\n",
    "    \"CA-24-481\",\n",
    "    \"CA-24-482\",\n",
    "    \"CA-24-483\",\n",
    "    \"CA-24-485\",\n",
    "    \"CA-24-489\",\n",
    "    \"CA-24-490\",\n",
    "    \"CA-24-492\",\n",
    "    \"CA-24-493\",\n",
    "    \"CA-24-494\",\n",
    "    \"CA-24-497\",\n",
    "    \"CA-24-500\",\n",
    "    \"CA-24-502\",\n",
    "    \"CA-24-503\",\n",
    "    \"CA-24-504\",\n",
    "    \"CA-24-509\",\n",
    "    \"CA-24-511\",\n",
    "    \"CA-24-515\",\n",
    "    \"CA-24-516\",\n",
    "    \"CA-24-521\",\n",
    "    \"CA-24-522\",\n",
    "    \"CA-24-525\",\n",
    "    \"CA-24-527\",\n",
    "    \"CA-24-528\",\n",
    "    \"CA-24-535\",\n",
    "    \"CA-24-539\",\n",
    "    \"CA-24-541\",\n",
    "    \"CA-24-545\",\n",
    "    \"CA-24-552\",\n",
    "    \"CA-24-553\",\n",
    "    \"CA-24-554\",\n",
    "    \"CA-24-564\",\n",
    "]"
   ]
  },
  {
   "cell_type": "code",
   "execution_count": 38,
   "metadata": {},
   "outputs": [],
   "source": [
    "import os\n",
    "import openpyxl\n",
    "import csv\n",
    "from methods import data_retrieval"
   ]
  },
  {
   "cell_type": "code",
   "execution_count": 9,
   "metadata": {},
   "outputs": [],
   "source": [
    "directory = \"C:/Users/cameronshaw/Documents/Affordable Research/CTCAC Applications/tester_folder\"\n",
    "files = os.listdir(\n",
    "    directory\n",
    ")\n",
    "excel_path = [directory + \"/\" + i for i in files]"
   ]
  },
  {
   "cell_type": "code",
   "execution_count": 9,
   "metadata": {},
   "outputs": [
    {
     "data": {
      "text/plain": [
       "'23-516'"
      ]
     },
     "execution_count": 9,
     "metadata": {},
     "output_type": "execute_result"
    }
   ],
   "source": [
    "'C:/Users/cameronshaw/Documents/Affordable Research/All Applications Since 2022/secondround_2023/23-516.xlsx'.split('/')[7].split('.')[0]"
   ]
  },
  {
   "cell_type": "code",
   "execution_count": 7,
   "metadata": {},
   "outputs": [
    {
     "data": {
      "text/plain": [
       "['CA-24-408', 3735, None, None, '(specify here)', None, 3735, 2610855]"
      ]
     },
     "execution_count": 7,
     "metadata": {},
     "output_type": "execute_result"
    }
   ],
   "source": [
    "stuff"
   ]
  },
  {
   "cell_type": "code",
   "execution_count": 19,
   "metadata": {},
   "outputs": [],
   "source": [
    "rows_permanent = list(range(627, 639))\n",
    "rows_construction = list(range(554, 566))"
   ]
  },
  {
   "cell_type": "code",
   "execution_count": 22,
   "metadata": {},
   "outputs": [],
   "source": [
    "columns_permanent = ['C', 'M','Q','W', 'AO']\n",
    "columns_construction  =['C', 'M', 'Q', 'W', 'AM']"
   ]
  },
  {
   "cell_type": "code",
   "execution_count": 74,
   "metadata": {},
   "outputs": [
    {
     "name": "stdout",
     "output_type": "stream",
     "text": [
      "[['C627', 'M627', 'Q627', 'W627', 'AO627'], ['C628', 'M628', 'Q628', 'W628', 'AO628'], ['C629', 'M629', 'Q629', 'W629', 'AO629'], ['C630', 'M630', 'Q630', 'W630', 'AO630'], ['C631', 'M631', 'Q631', 'W631', 'AO631'], ['C632', 'M632', 'Q632', 'W632', 'AO632'], ['C633', 'M633', 'Q633', 'W633', 'AO633'], ['C634', 'M634', 'Q634', 'W634', 'AO634'], ['C635', 'M635', 'Q635', 'W635', 'AO635'], ['C636', 'M636', 'Q636', 'W636', 'AO636'], ['C637', 'M637', 'Q637', 'W637', 'AO637'], ['C638', 'M638', 'Q638', 'W638', 'AO638']]\n"
     ]
    }
   ],
   "source": [
    "rows_columns = []\n",
    "for j in rows_permanent:\n",
    "    list_a = []\n",
    "    for i in columns_permanent:\n",
    "        list_a.append(i+str(j))\n",
    "    rows_columns.append(list_a)\n",
    "print(rows_columns)"
   ]
  },
  {
   "cell_type": "code",
   "execution_count": 11,
   "metadata": {},
   "outputs": [],
   "source": [
    "#directory for excel files\n",
    "directory = \"C:/Users/cameronshaw/Documents/Affordable Research/All Applications Since 2022/first_round_2024\"\n",
    "#gets the excel files\n",
    "files = os.listdir(directory)\n",
    "#turns them into usable filepaths for method\n",
    "excel_paths = [directory + \"/\" + i for i in files]"
   ]
  },
  {
   "cell_type": "code",
   "execution_count": 12,
   "metadata": {},
   "outputs": [
    {
     "data": {
      "text/plain": [
       "'CA-24-408'"
      ]
     },
     "execution_count": 12,
     "metadata": {},
     "output_type": "execute_result"
    }
   ],
   "source": [
    "\"CA-\"+ files[0].split('.')[0]"
   ]
  },
  {
   "cell_type": "code",
   "execution_count": 10,
   "metadata": {},
   "outputs": [
    {
     "ename": "NameError",
     "evalue": "name 'excel_paths' is not defined",
     "output_type": "error",
     "traceback": [
      "\u001b[1;31m---------------------------------------------------------------------------\u001b[0m",
      "\u001b[1;31mNameError\u001b[0m                                 Traceback (most recent call last)",
      "Cell \u001b[1;32mIn[10], line 1\u001b[0m\n\u001b[1;32m----> 1\u001b[0m \u001b[43mexcel_paths\u001b[49m[\u001b[38;5;241m0\u001b[39m]\u001b[38;5;241m.\u001b[39msplit(\u001b[38;5;124m'\u001b[39m\u001b[38;5;124m/\u001b[39m\u001b[38;5;124m'\u001b[39m)[\u001b[38;5;241m7\u001b[39m]\u001b[38;5;241m.\u001b[39msplit(\u001b[38;5;124m'\u001b[39m\u001b[38;5;124m.\u001b[39m\u001b[38;5;124m'\u001b[39m)[\u001b[38;5;241m0\u001b[39m]\n",
      "\u001b[1;31mNameError\u001b[0m: name 'excel_paths' is not defined"
     ]
    }
   ],
   "source": [
    "excel_paths[0].split('/')[7].split('.')[0]"
   ]
  },
  {
   "cell_type": "code",
   "execution_count": 15,
   "metadata": {},
   "outputs": [],
   "source": [
    "from methods import data_retrieval"
   ]
  },
  {
   "cell_type": "code",
   "execution_count": 16,
   "metadata": {},
   "outputs": [
    {
     "name": "stderr",
     "output_type": "stream",
     "text": [
      "c:\\Users\\cameronshaw\\AppData\\Local\\Programs\\Python\\Python311\\Lib\\site-packages\\openpyxl\\reader\\excel.py:249: UserWarning: Cell 'Basis & Credits':S21 is part of a merged range but has a comment which will be removed because merged cells cannot contain any data.\n",
      "  warnings.warn(comment_warning.format(ws.title, c.coordinate))\n",
      "c:\\Users\\cameronshaw\\AppData\\Local\\Programs\\Python\\Python311\\Lib\\site-packages\\openpyxl\\reader\\excel.py:249: UserWarning: Cell 'Basis & Credits':S23 is part of a merged range but has a comment which will be removed because merged cells cannot contain any data.\n",
      "  warnings.warn(comment_warning.format(ws.title, c.coordinate))\n"
     ]
    },
    {
     "name": "stdout",
     "output_type": "stream",
     "text": [
      "returning started:C:/Users/cameronshaw\\Documents/Affordable Research/All Applications Since 2022/secondround_2022/22-600.xlsx\n",
      "data returned:C:/Users/cameronshaw\\Documents/Affordable Research/All Applications Since 2022/secondround_2022/22-600.xlsx\n"
     ]
    },
    {
     "data": {
      "text/plain": [
       "['CA-22-600', 40920, None, None, 'Cable & Storage ', 142258, 183178, 6036658]"
      ]
     },
     "execution_count": 16,
     "metadata": {},
     "output_type": "execute_result"
    }
   ],
   "source": [
    "data_retrieval.get_CTCHC_data(\n",
    "    \"C:/Users/cameronshaw\\Documents/Affordable Research/All Applications Since 2022/secondround_2022/22-600.xlsx\"\n",
    ")"
   ]
  },
  {
   "cell_type": "code",
   "execution_count": 15,
   "metadata": {},
   "outputs": [],
   "source": [
    "Accepted_file_paths = []\n",
    "new_construction_only_filepaths = []\n",
    "for i in Accepted:\n",
    "    stuff = i.split('-')\n",
    "    Accepted_file_paths.append(stuff[1]+'-'+stuff[2])\n",
    "\n",
    "for i in Accepted_new_construction_only:\n",
    "    stuff = i.split('-')\n",
    "    new_construction_only_filepaths.append(stuff[1]+'-'+stuff[2])"
   ]
  },
  {
   "cell_type": "code",
   "execution_count": 19,
   "metadata": {},
   "outputs": [
    {
     "name": "stdout",
     "output_type": "stream",
     "text": [
      "['24-414', '24-424', '24-426', '24-427', '24-428', '24-433', '24-434', '24-435', '24-441', '24-443', '24-455', '24-459', '24-460', '24-467', '24-469', '24-471', '24-472', '24-473', '24-474', '24-476', '24-477', '24-478', '24-481', '24-482', '24-483', '24-485', '24-489', '24-490', '24-492', '24-493', '24-494', '24-497', '24-500', '24-502', '24-503', '24-504', '24-509', '24-511', '24-515', '24-516', '24-521', '24-522', '24-525', '24-527', '24-528', '24-535', '24-539', '24-541', '24-545', '24-552', '24-553', '24-554', '24-564']\n"
     ]
    }
   ],
   "source": [
    "print(new_construction_only_filepaths)"
   ]
  },
  {
   "cell_type": "code",
   "execution_count": 1,
   "metadata": {},
   "outputs": [],
   "source": [
    "thing = 'C:/Users/cameronshaw/Documents/Affordable Research/All Applications Since 2022/second_round_2024'.split(\"/\")"
   ]
  },
  {
   "cell_type": "code",
   "execution_count": 13,
   "metadata": {},
   "outputs": [
    {
     "data": {
      "text/plain": [
       "'24-408.xlsx'"
      ]
     },
     "execution_count": 13,
     "metadata": {},
     "output_type": "execute_result"
    }
   ],
   "source": [
    "files[0]"
   ]
  },
  {
   "cell_type": "code",
   "execution_count": 20,
   "metadata": {},
   "outputs": [],
   "source": [
    "directory = \"C:/Users/cameronshaw/Documents/Affordable Research/All Applications Since 2022/secondround_2022\"\n",
    "folder_name = directory.split('/')[len(directory.split('/')) - 1]"
   ]
  },
  {
   "cell_type": "code",
   "execution_count": 21,
   "metadata": {},
   "outputs": [
    {
     "data": {
      "text/plain": [
       "'secondround_2022'"
      ]
     },
     "execution_count": 21,
     "metadata": {},
     "output_type": "execute_result"
    }
   ],
   "source": [
    "folder_name"
   ]
  },
  {
   "cell_type": "code",
   "execution_count": 19,
   "metadata": {},
   "outputs": [
    {
     "data": {
      "text/plain": [
       "95"
      ]
     },
     "execution_count": 19,
     "metadata": {},
     "output_type": "execute_result"
    }
   ],
   "source": [
    "len(directory)"
   ]
  },
  {
   "cell_type": "code",
   "execution_count": 22,
   "metadata": {},
   "outputs": [
    {
     "data": {
      "text/plain": [
       "['app number', 'yourmom']"
      ]
     },
     "execution_count": 22,
     "metadata": {},
     "output_type": "execute_result"
    }
   ],
   "source": [
    "['app number']+['yourmom']"
   ]
  },
  {
   "cell_type": "code",
   "execution_count": 2,
   "metadata": {},
   "outputs": [],
   "source": [
    "from openpyxl import load_workbook"
   ]
  },
  {
   "cell_type": "code",
   "execution_count": null,
   "metadata": {},
   "outputs": [],
   "source": [
    "names = wwb.sheetnames\n"
   ]
  }
 ],
 "metadata": {
  "kernelspec": {
   "display_name": "Python 3",
   "language": "python",
   "name": "python3"
  },
  "language_info": {
   "codemirror_mode": {
    "name": "ipython",
    "version": 3
   },
   "file_extension": ".py",
   "mimetype": "text/x-python",
   "name": "python",
   "nbconvert_exporter": "python",
   "pygments_lexer": "ipython3",
   "version": "3.11.5"
  }
 },
 "nbformat": 4,
 "nbformat_minor": 2
}
