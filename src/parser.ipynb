{
 "cells": [
  {
   "cell_type": "code",
   "execution_count": 8,
   "metadata": {},
   "outputs": [],
   "source": [
    "import os\n",
    "import openpyxl\n",
    "import csv"
   ]
  },
  {
   "cell_type": "code",
   "execution_count": 9,
   "metadata": {},
   "outputs": [],
   "source": [
    "directory = \"C:/Users/cameronshaw/Documents/Affordable Research/CTCAC Applications/tester_folder\"\n",
    "files = os.listdir(\n",
    "    directory\n",
    ")\n",
    "excel_path = [directory + \"/\" + i for i in files]"
   ]
  },
  {
   "cell_type": "code",
   "execution_count": 10,
   "metadata": {},
   "outputs": [],
   "source": [
    "def get_cell_value(file_path, sheet_name, cell):\n",
    "\n",
    "    #load excel file\n",
    "    workbook = openpyxl.load_workbook(file_path)\n",
    "\n",
    "    #Select the sheet \n",
    "    sheet = workbook[sheet_name]\n",
    "\n",
    "    #get the value\n",
    "    value = sheet[cell].value\n",
    "\n",
    "    return value"
   ]
  },
  {
   "cell_type": "code",
   "execution_count": 11,
   "metadata": {},
   "outputs": [],
   "source": [
    "\n",
    "value = get_cell_value(excel_path[0],\"Application\", 'H18')"
   ]
  },
  {
   "cell_type": "code",
   "execution_count": 19,
   "metadata": {},
   "outputs": [],
   "source": [
    "#gets usable CTCHC data from excel spreadsheet\n",
    "def get_CTCHC_data(file_path):\n",
    "    # name = 'H18'\n",
    "    # address = 'I185'\n",
    "    # project_type = 'D211'\n",
    "    # consultant_company = 'H319'\n",
    "    # consultant_contact = 'H322'\n",
    "    # attorney_firm = 'H295'\n",
    "    # attorney_contact = 'H298'\n",
    "    # tax_company = 'H303'\n",
    "    # tax_contact = 'H306'\n",
    "    # cpa = 'H311'\n",
    "    # cpa_contact = 'H314'\n",
    "    # appraiser = 'H327'\n",
    "    # appraiser_contact = 'H330'\n",
    "    # property_manager = 'AA335'\n",
    "    # property_manager_contact = 'AA338'\n",
    "    # cells_to_search = [\n",
    "    #     name, address, project_type, consultant_company, consultant_contact,\n",
    "    #     attorney_firm, attorney_contact, tax_company, tax_contact, cpa,\n",
    "    #     cpa_contact, appraiser, appraiser_contact, property_manager,\n",
    "    #     property_manager_contact\n",
    "    # ]\n",
    "\n",
    "    application_data = [\n",
    "        'AG437', 'AG442', 'O773', 'T773', 'AG993', 'AG449', 'N372', 'AE424',\n",
    "        'AA287'\n",
    "    ]\n",
    "\n",
    "    budget_and_sources = [\n",
    "        'B12', 'B26', 'B38', 'B42', 'B43', 'B54', 'B62', 'B70', 'B77', 'B79',\n",
    "        'B80', 'B96', 'B104', 'B13', 'B14', 'B27'\n",
    "    ]\n",
    "\n",
    "    cells_to_search = application_data\n",
    "\n",
    "    #load excel file\n",
    "    workbook = openpyxl.load_workbook(file_path, data_only=True)\n",
    "\n",
    "    #Select the sheet\n",
    "    app = \"Application\"\n",
    "    budg = 'Sources and Uses Budget'\n",
    "    sheet = workbook[app]\n",
    "\n",
    "    #get the values\n",
    "    cell_data = [sheet[i].value for i in cells_to_search]\n",
    "\n",
    "    #removes null values\n",
    "    for j in range(len(cell_data)):\n",
    "        if cell_data[j] is None:\n",
    "            cell_data[j] = 'None'\n",
    "\n",
    "    #per value changes needed\n",
    "    if isinstance(cell_data[1], str) or isinstance(\n",
    "            cell_data[2], str) or isinstance(cell_data[3], str):\n",
    "        cell_data[1] = 0\n",
    "        cell_data[2] = 0\n",
    "        cell_data[3] = 0\n",
    "        print(f'skipped numbers for this:{file_path}')\n",
    "\n",
    "    # land_cost = cell_data[0] + cell_data[13] + cell_data[14]\n",
    "    # hard_cost = cell_data[1] + cell_data[2] + cell_data[9] + cell_data[15]\n",
    "    # soft_cost = cell_data[7] + cell_data[8] + cell_data[10] + cell_data[11]\n",
    "    # architectural_cost = cell_data[3] + cell_data[4]\n",
    "    # finance_cost = cell_data[5] + cell_data[6]\n",
    "    # developer_fee = cell_data[12]\n",
    "\n",
    "    #per value changes needed\n",
    "\n",
    "    print(f'returning started:{file_path}')\n",
    "    to_return = [\n",
    "        # land_cost, hard_cost, soft_cost, architectural_cost, finance_cost,\n",
    "        # developer_fee\n",
    "        cell_data[0],\n",
    "        cell_data[1] + cell_data[2] * cell_data[3],\n",
    "        cell_data[4],\n",
    "        cell_data[5],\n",
    "        cell_data[6],\n",
    "        cell_data[7],\n",
    "        cell_data[8]\n",
    "\n",
    "        # cell_data[0], cell_data[1], cell_data[2],\n",
    "        # cell_data[3] + ' - ' + cell_data[4],\n",
    "        # cell_data[5] + ' - ' + cell_data[6],\n",
    "        # cell_data[7] + ' - ' + cell_data[8],\n",
    "        # cell_data[9] + ' - ' + cell_data[10],\n",
    "        # cell_data[11] + ' - ' + cell_data[12],\n",
    "        # cell_data[13] + ' - ' + cell_data[14]\n",
    "    ]\n",
    "    print(f'data returned:{file_path}')\n",
    "    return to_return"
   ]
  },
  {
   "cell_type": "code",
   "execution_count": 20,
   "metadata": {},
   "outputs": [
    {
     "name": "stderr",
     "output_type": "stream",
     "text": [
      "c:\\Users\\cameronshaw\\AppData\\Local\\Programs\\Python\\Python311\\Lib\\site-packages\\openpyxl\\reader\\excel.py:249: UserWarning: Cell 'Basis & Credits':S21 is part of a merged range but has a comment which will be removed because merged cells cannot contain any data.\n",
      "  warnings.warn(comment_warning.format(ws.title, c.coordinate))\n",
      "c:\\Users\\cameronshaw\\AppData\\Local\\Programs\\Python\\Python311\\Lib\\site-packages\\openpyxl\\reader\\excel.py:249: UserWarning: Cell 'Basis & Credits':S23 is part of a merged range but has a comment which will be removed because merged cells cannot contain any data.\n",
      "  warnings.warn(comment_warning.format(ws.title, c.coordinate))\n"
     ]
    },
    {
     "name": "stdout",
     "output_type": "stream",
     "text": [
      "returning started:C:/Users/cameronshaw/Documents/Affordable Research/All Applications Since 2022/first_round_2024/24-408.xlsx\n",
      "data returned:C:/Users/cameronshaw/Documents/Affordable Research/All Applications Since 2022/first_round_2024/24-408.xlsx\n"
     ]
    },
    {
     "data": {
      "text/plain": [
       "[72, 42120, 'No', 0, 3, 9, 'Basis Architecture']"
      ]
     },
     "execution_count": 20,
     "metadata": {},
     "output_type": "execute_result"
    }
   ],
   "source": [
    "get_CTCHC_data(\n",
    "    \"C:/Users/cameronshaw/Documents/Affordable Research/All Applications Since 2022/first_round_2024/24-408.xlsx\"\n",
    ")"
   ]
  },
  {
   "cell_type": "code",
   "execution_count": 48,
   "metadata": {},
   "outputs": [
    {
     "data": {
      "text/plain": [
       "['92216', '604']"
      ]
     },
     "execution_count": 48,
     "metadata": {},
     "output_type": "execute_result"
    }
   ],
   "source": [
    "'=92216-604'.replace('=', '').split('-')"
   ]
  },
  {
   "cell_type": "code",
   "execution_count": null,
   "metadata": {},
   "outputs": [],
   "source": []
  }
 ],
 "metadata": {
  "kernelspec": {
   "display_name": "Python 3",
   "language": "python",
   "name": "python3"
  },
  "language_info": {
   "codemirror_mode": {
    "name": "ipython",
    "version": 3
   },
   "file_extension": ".py",
   "mimetype": "text/x-python",
   "name": "python",
   "nbconvert_exporter": "python",
   "pygments_lexer": "ipython3",
   "version": "3.11.5"
  }
 },
 "nbformat": 4,
 "nbformat_minor": 2
}
