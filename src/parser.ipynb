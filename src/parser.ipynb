{
 "cells": [
  {
   "cell_type": "code",
   "execution_count": 7,
   "metadata": {},
   "outputs": [],
   "source": [
    "Accepted = [\n",
    "    \"CA-24-408\", \"CA-24-409\", \"CA-24-414\", \"CA-24-424\", \"CA-24-426\",\n",
    "    \"CA-24-427\", \"CA-24-428\", \"CA-24-433\", \"CA-24-434\", \"CA-24-435\",\n",
    "    \"CA-24-441\", \"CA-24-442\", \"CA-24-443\", \"CA-24-455\", \"CA-24-459\",\n",
    "    \"CA-24-460\", \"CA-24-467\", \"CA-24-469\", \"CA-24-470\", \"CA-24-471\",\n",
    "    \"CA-24-472\", \"CA-24-473\", \"CA-24-474\", \"CA-24-476\", \"CA-24-477\",\n",
    "    \"CA-24-478\", \"CA-24-481\", \"CA-24-482\", \"CA-24-483\", \"CA-24-485\",\n",
    "    \"CA-24-489\", \"CA-24-490\", \"CA-24-492\", \"CA-24-493\", \"CA-24-494\",\n",
    "    \"CA-24-497\", \"CA-24-500\", \"CA-24-502\", \"CA-24-503\", \"CA-24-504\",\n",
    "    \"CA-24-509\", \"CA-24-511\", \"CA-24-515\", \"CA-24-516\", \"CA-24-521\",\n",
    "    \"CA-24-522\", \"CA-24-524\", \"CA-24-525\", \"CA-24-527\", \"CA-24-528\",\n",
    "    \"CA-24-535\", \"CA-24-539\", \"CA-24-541\", \"CA-24-545\", \"CA-24-547\",\n",
    "    \"CA-24-549\", \"CA-24-552\", \"CA-24-553\", \"CA-24-554\", \"CA-24-558\",\n",
    "    \"CA-24-564\"\n",
    "]\n",
    "\n",
    "Accepted_new_construction_only = [\n",
    "    \"CA-24-414\",\n",
    "    \"CA-24-424\",\n",
    "    \"CA-24-426\",\n",
    "    \"CA-24-427\",\n",
    "    \"CA-24-428\",\n",
    "    \"CA-24-433\",\n",
    "    \"CA-24-434\",\n",
    "    \"CA-24-435\",\n",
    "    \"CA-24-441\",\n",
    "    \"CA-24-443\",\n",
    "    \"CA-24-455\",\n",
    "    \"CA-24-459\",\n",
    "    \"CA-24-460\",\n",
    "    \"CA-24-467\",\n",
    "    \"CA-24-469\",\n",
    "    \"CA-24-471\",\n",
    "    \"CA-24-472\",\n",
    "    \"CA-24-473\",\n",
    "    \"CA-24-474\",\n",
    "    \"CA-24-476\",\n",
    "    \"CA-24-477\",\n",
    "    \"CA-24-478\",\n",
    "    \"CA-24-481\",\n",
    "    \"CA-24-482\",\n",
    "    \"CA-24-483\",\n",
    "    \"CA-24-485\",\n",
    "    \"CA-24-489\",\n",
    "    \"CA-24-490\",\n",
    "    \"CA-24-492\",\n",
    "    \"CA-24-493\",\n",
    "    \"CA-24-494\",\n",
    "    \"CA-24-497\",\n",
    "    \"CA-24-500\",\n",
    "    \"CA-24-502\",\n",
    "    \"CA-24-503\",\n",
    "    \"CA-24-504\",\n",
    "    \"CA-24-509\",\n",
    "    \"CA-24-511\",\n",
    "    \"CA-24-515\",\n",
    "    \"CA-24-516\",\n",
    "    \"CA-24-521\",\n",
    "    \"CA-24-522\",\n",
    "    \"CA-24-525\",\n",
    "    \"CA-24-527\",\n",
    "    \"CA-24-528\",\n",
    "    \"CA-24-535\",\n",
    "    \"CA-24-539\",\n",
    "    \"CA-24-541\",\n",
    "    \"CA-24-545\",\n",
    "    \"CA-24-552\",\n",
    "    \"CA-24-553\",\n",
    "    \"CA-24-554\",\n",
    "    \"CA-24-564\",\n",
    "]"
   ]
  },
  {
   "cell_type": "code",
   "execution_count": 8,
   "metadata": {},
   "outputs": [],
   "source": [
    "import os\n",
    "import openpyxl\n",
    "import csv"
   ]
  },
  {
   "cell_type": "code",
   "execution_count": 9,
   "metadata": {},
   "outputs": [],
   "source": [
    "directory = \"C:/Users/cameronshaw/Documents/Affordable Research/CTCAC Applications/tester_folder\"\n",
    "files = os.listdir(\n",
    "    directory\n",
    ")\n",
    "excel_path = [directory + \"/\" + i for i in files]"
   ]
  },
  {
   "cell_type": "code",
   "execution_count": 5,
   "metadata": {},
   "outputs": [],
   "source": [
    "def get_CTCHC_data(file_path):\n",
    "    # name = 'H18'\n",
    "    # address = 'I185'\n",
    "    # project_type = 'D211'\n",
    "    # consultant_company = 'H319'\n",
    "    # consultant_contact = 'H322'\n",
    "    # attorney_firm = 'H295'\n",
    "    # attorney_contact = 'H298'\n",
    "    # tax_company = 'H303'\n",
    "    # tax_contact = 'H306'\n",
    "    # cpa = 'H311'\n",
    "    # cpa_contact = 'H314'\n",
    "    # appraiser = 'H327'\n",
    "    # appraiser_contact = 'H330'\n",
    "    # property_manager = 'AA335'\n",
    "    # property_manager_contact = 'AA338'\n",
    "    # cells_to_search = [\n",
    "    #     name, address, project_type, consultant_company, consultant_contact,\n",
    "    #     attorney_firm, attorney_contact, tax_company, tax_contact, cpa,\n",
    "    #     cpa_contact, appraiser, appraiser_contact, property_manager,\n",
    "    #     property_manager_contact\n",
    "    # ]\n",
    "\n",
    "    app_number = \"CA-\" + file_path.split('/')[7].split('.')[0]\n",
    "\n",
    "    application_data = [\n",
    "        'AG437', 'AG442', 'O773', 'T773', 'AG993', 'AG449', 'AD411', 'AE424',\n",
    "        'AA287', 'Q494', 'S413'\n",
    "    ]\n",
    "\n",
    "    expenses_per_unit = ['AG437', 'AC883']\n",
    "\n",
    "    address = ['I185']\n",
    "\n",
    "    budget_and_sources = [\n",
    "        'B12', 'B26', 'B38', 'B42', 'B43', 'B54', 'B62', 'B70', 'B77', 'B79',\n",
    "        'B80', 'B96', 'B104', 'B13', 'B14', 'B27'\n",
    "    ]\n",
    "\n",
    "    CPA = ['H311', 'H312', 'H313', 'H314', 'H315', 'H317']\n",
    "    # because the ones from 2023 are slightly different\n",
    "    CPA2 = ['H310', 'H311', 'H312', 'H313', 'H314', 'H316']\n",
    "\n",
    "    expenses = ['AC885']\n",
    "\n",
    "    construction_financing = [['C554', 'M554', 'Q554', 'W554', 'AM554'],\n",
    "                              ['C555', 'M555', 'Q555', 'W555', 'AM555'],\n",
    "                              ['C556', 'M556', 'Q556', 'W556', 'AM556'],\n",
    "                              ['C557', 'M557', 'Q557', 'W557', 'AM557'],\n",
    "                              ['C558', 'M558', 'Q558', 'W558', 'AM558'],\n",
    "                              ['C559', 'M559', 'Q559', 'W559', 'AM559'],\n",
    "                              ['C560', 'M560', 'Q560', 'W560', 'AM560'],\n",
    "                              ['C561', 'M561', 'Q561', 'W561', 'AM561'],\n",
    "                              ['C562', 'M562', 'Q562', 'W562', 'AM562'],\n",
    "                              ['C563', 'M563', 'Q563', 'W563', 'AM563'],\n",
    "                              ['C564', 'M564', 'Q564', 'W564', 'AM564'],\n",
    "                              ['C565', 'M565', 'Q565', 'W565', 'AM565']]\n",
    "\n",
    "    permanent_financing = [['C627', 'M627', 'Q627', 'W627', 'AO627'],\n",
    "                           ['C628', 'M628', 'Q628', 'W628', 'AO628'],\n",
    "                           ['C629', 'M629', 'Q629', 'W629', 'AO629'],\n",
    "                           ['C630', 'M630', 'Q630', 'W630', 'AO630'],\n",
    "                           ['C631', 'M631', 'Q631', 'W631', 'AO631'],\n",
    "                           ['C632', 'M632', 'Q632', 'W632', 'AO632'],\n",
    "                           ['C633', 'M633', 'Q633', 'W633', 'AO633'],\n",
    "                           ['C634', 'M634', 'Q634', 'W634', 'AO634'],\n",
    "                           ['C635', 'M635', 'Q635', 'W635', 'AO635'],\n",
    "                           ['C636', 'M636', 'Q636', 'W636', 'AO636'],\n",
    "                           ['C637', 'M637', 'Q637', 'W637', 'AO637'],\n",
    "                           ['C638', 'M638', 'Q638', 'W638', 'AO638']]\n",
    "\n",
    "    parking_spaces = ['Q494', 'M495', 'AH495']\n",
    "\n",
    "    GC_Fees = [\n",
    "        'B17', 'B18', 'B19', 'B20', 'B21', 'B22', 'B23', 'B24', 'B26', 'B29',\n",
    "        'B30', 'B31', 'B32', 'B33', 'B34', 'B35', 'B36', 'B38'\n",
    "    ]\n",
    "\n",
    "    Miscellaneous_income = [\n",
    "        'Z813', 'Z814', 'Z815', 'P816', 'Z816', 'Z817', 'Z818'\n",
    "    ]\n",
    "\n",
    "    cells_to_search = Miscellaneous_income\n",
    "\n",
    "    #load excel file\n",
    "    workbook = openpyxl.load_workbook(file_path, data_only=True)\n",
    "\n",
    "    #Select the sheet\n",
    "    app = \"Application\"\n",
    "    budg = 'Sources and Uses Budget'\n",
    "    sheet = workbook[app]\n",
    "\n",
    "    #get the values\n",
    "    cell_data = [sheet[i].value for i in cells_to_search]\n",
    "\n",
    "    #for getting financial data\n",
    "    # cell_data = []\n",
    "    # for row in cells_to_search:\n",
    "    #     lender = sheet[row[0]].value\n",
    "    #     source = sheet[row[1]].value\n",
    "    #     term = sheet[row[2]].value\n",
    "    #     interest = sheet[row[3]].value\n",
    "    #     funds = sheet[row[4]].value\n",
    "    #     cell_data.append([app_number, lender, source, term, interest, funds])\n",
    "\n",
    "    #removes null values\n",
    "    # for j in range(len(cell_data)):\n",
    "    #     if cell_data[j] is None:\n",
    "    #         cell_data[j] = 'None'\n",
    "\n",
    "    # for j in range(len(cell_data) - 1, -1, -1):\n",
    "    #     if cell_data[j][5] is None:\n",
    "    #         cell_data.pop(j)\n",
    "\n",
    "    #per value changes needed\n",
    "    # if isinstance(cell_data[1], str) or isinstance(\n",
    "    #         cell_data[2], str) or isinstance(cell_data[3], str):\n",
    "    #     cell_data[1] = 0\n",
    "    #     cell_data[2] = 0\n",
    "    #     cell_data[3] = 0\n",
    "    #     print(f'skipped numbers for this:{file_path}')\n",
    "\n",
    "    # land_cost = cell_data[0] + cell_data[13] + cell_data[14]\n",
    "    # hard_cost = cell_data[1] + cell_data[2] + cell_data[9] + cell_data[15]\n",
    "    # soft_cost = cell_data[7] + cell_data[8] + cell_data[10] + cell_data[11]\n",
    "    # architectural_cost = cell_data[3] + cell_data[4]\n",
    "    # finance_cost = cell_data[5] + cell_data[6]\n",
    "    # developer_fee = cell_data[12]\n",
    "\n",
    "    #per value changes needed\n",
    "\n",
    "    print(f'returning started:{file_path}')\n",
    "    # for finding rehab or new construction\n",
    "    # if cell_data[1] != 0:\n",
    "    #     to_return = [\n",
    "    #         app_number,\n",
    "    #         cell_data[0],\n",
    "    #         cell_data[1],\n",
    "    #         cell_data[2],\n",
    "    #         cell_data[3],\n",
    "    #         cell_data[4],\n",
    "    #         cell_data[5],\n",
    "    #         cell_data[6],\n",
    "    #         cell_data[7],\n",
    "    #         cell_data[8],\n",
    "    #     ]\n",
    "\n",
    "    # else:\n",
    "    #     to_return = [\n",
    "    #         app_number, cell_data[9], cell_data[10], cell_data[11],\n",
    "    #         cell_data[12], cell_data[13], cell_data[14], cell_data[15],\n",
    "    #         cell_data[16], cell_data[17]\n",
    "    #     ]\n",
    "    # default\n",
    "    to_return = [app_number] + cell_data\n",
    "    # land_cost, hard_cost, soft_cost, architectural_cost, finance_cost,\n",
    "    # developer_fee\n",
    "    # cell_data[0],\n",
    "    # cell_data[1] + cell_data[2] * cell_data[3],\n",
    "    # cell_data[4],\n",
    "    # cell_data[5],\n",
    "    # cell_data[6],\n",
    "    # cell_data[7],\n",
    "    # cell_data[8],\n",
    "    # cell_data[9],\n",
    "    # cell_data[10]\n",
    "\n",
    "    #   various budget data\n",
    "    #     # cell_data[0], cell_data[1], cell_data[2],\n",
    "    #     # cell_data[3] + ' - ' + cell_data[4],\n",
    "    #     # cell_data[5] + ' - ' + cell_data[6],\n",
    "    #     # cell_data[7] + ' - ' + cell_data[8],\n",
    "    #     # cell_data[9] + ' - ' + cell_data[10],\n",
    "    #     # cell_data[11] + ' - ' + cell_data[12],\n",
    "    #     # cell_data[13] + ' - ' + cell_data[14]\n",
    "    #     cell_data[0]\n",
    "\n",
    "    # parking data\n",
    "    # cell_data[0],\n",
    "    # cell_data[1],\n",
    "    # cell_data[2]\n",
    "\n",
    "    # CPA\n",
    "    # cell_data[0],\n",
    "    # cell_data[1],\n",
    "    # cell_data[2],\n",
    "    # cell_data[3],\n",
    "    # cell_data[4],\n",
    "    # cell_data[5]\n",
    "\n",
    "    #expenses_per_unit\n",
    "    # cell_data[0],\n",
    "    # cell_data[1]\n",
    "\n",
    "    # misc income\n",
    "\n",
    "    print(f'data returned:{file_path}')\n",
    "    return to_return"
   ]
  },
  {
   "cell_type": "code",
   "execution_count": 14,
   "metadata": {},
   "outputs": [
    {
     "ename": "NameError",
     "evalue": "name 'get_CTCHC_data' is not defined",
     "output_type": "error",
     "traceback": [
      "\u001b[1;31m---------------------------------------------------------------------------\u001b[0m",
      "\u001b[1;31mNameError\u001b[0m                                 Traceback (most recent call last)",
      "Cell \u001b[1;32mIn[14], line 1\u001b[0m\n\u001b[1;32m----> 1\u001b[0m stuff \u001b[38;5;241m=\u001b[39m \u001b[43mget_CTCHC_data\u001b[49m(\n\u001b[0;32m      2\u001b[0m     \u001b[38;5;124m\"\u001b[39m\u001b[38;5;124mC:/Users/cameronshaw/Documents/Affordable Research/All Applications Since 2022/Accepted_2024/24-408.xlsx\u001b[39m\u001b[38;5;124m\"\u001b[39m\n\u001b[0;32m      3\u001b[0m )\n",
      "\u001b[1;31mNameError\u001b[0m: name 'get_CTCHC_data' is not defined"
     ]
    }
   ],
   "source": [
    "stuff = get_CTCHC_data(\n",
    "    \"C:/Users/cameronshaw/Documents/Affordable Research/All Applications Since 2022/Accepted_2024/24-408.xlsx\"\n",
    ")"
   ]
  },
  {
   "cell_type": "code",
   "execution_count": 9,
   "metadata": {},
   "outputs": [
    {
     "data": {
      "text/plain": [
       "'23-516'"
      ]
     },
     "execution_count": 9,
     "metadata": {},
     "output_type": "execute_result"
    }
   ],
   "source": [
    "'C:/Users/cameronshaw/Documents/Affordable Research/All Applications Since 2022/secondround_2023/23-516.xlsx'.split('/')[7].split('.')[0]"
   ]
  },
  {
   "cell_type": "code",
   "execution_count": 7,
   "metadata": {},
   "outputs": [
    {
     "data": {
      "text/plain": [
       "['CA-24-408', 3735, None, None, '(specify here)', None, 3735, 2610855]"
      ]
     },
     "execution_count": 7,
     "metadata": {},
     "output_type": "execute_result"
    }
   ],
   "source": [
    "stuff"
   ]
  },
  {
   "cell_type": "code",
   "execution_count": 19,
   "metadata": {},
   "outputs": [],
   "source": [
    "rows_permanent = list(range(627, 639))\n",
    "rows_construction = list(range(554, 566))"
   ]
  },
  {
   "cell_type": "code",
   "execution_count": 22,
   "metadata": {},
   "outputs": [],
   "source": [
    "columns_permanent = ['C', 'M','Q','W', 'AO']\n",
    "columns_construction  =['C', 'M', 'Q', 'W', 'AM']"
   ]
  },
  {
   "cell_type": "code",
   "execution_count": 74,
   "metadata": {},
   "outputs": [
    {
     "name": "stdout",
     "output_type": "stream",
     "text": [
      "[['C627', 'M627', 'Q627', 'W627', 'AO627'], ['C628', 'M628', 'Q628', 'W628', 'AO628'], ['C629', 'M629', 'Q629', 'W629', 'AO629'], ['C630', 'M630', 'Q630', 'W630', 'AO630'], ['C631', 'M631', 'Q631', 'W631', 'AO631'], ['C632', 'M632', 'Q632', 'W632', 'AO632'], ['C633', 'M633', 'Q633', 'W633', 'AO633'], ['C634', 'M634', 'Q634', 'W634', 'AO634'], ['C635', 'M635', 'Q635', 'W635', 'AO635'], ['C636', 'M636', 'Q636', 'W636', 'AO636'], ['C637', 'M637', 'Q637', 'W637', 'AO637'], ['C638', 'M638', 'Q638', 'W638', 'AO638']]\n"
     ]
    }
   ],
   "source": [
    "rows_columns = []\n",
    "for j in rows_permanent:\n",
    "    list_a = []\n",
    "    for i in columns_permanent:\n",
    "        list_a.append(i+str(j))\n",
    "    rows_columns.append(list_a)\n",
    "print(rows_columns)"
   ]
  },
  {
   "cell_type": "code",
   "execution_count": 11,
   "metadata": {},
   "outputs": [],
   "source": [
    "#directory for excel files\n",
    "directory = \"C:/Users/cameronshaw/Documents/Affordable Research/All Applications Since 2022/first_round_2024\"\n",
    "#gets the excel files\n",
    "files = os.listdir(directory)\n",
    "#turns them into usable filepaths for method\n",
    "excel_paths = [directory + \"/\" + i for i in files]"
   ]
  },
  {
   "cell_type": "code",
   "execution_count": 12,
   "metadata": {},
   "outputs": [
    {
     "data": {
      "text/plain": [
       "'CA-24-408'"
      ]
     },
     "execution_count": 12,
     "metadata": {},
     "output_type": "execute_result"
    }
   ],
   "source": [
    "\"CA-\"+ files[0].split('.')[0]"
   ]
  },
  {
   "cell_type": "code",
   "execution_count": 10,
   "metadata": {},
   "outputs": [
    {
     "ename": "NameError",
     "evalue": "name 'excel_paths' is not defined",
     "output_type": "error",
     "traceback": [
      "\u001b[1;31m---------------------------------------------------------------------------\u001b[0m",
      "\u001b[1;31mNameError\u001b[0m                                 Traceback (most recent call last)",
      "Cell \u001b[1;32mIn[10], line 1\u001b[0m\n\u001b[1;32m----> 1\u001b[0m \u001b[43mexcel_paths\u001b[49m[\u001b[38;5;241m0\u001b[39m]\u001b[38;5;241m.\u001b[39msplit(\u001b[38;5;124m'\u001b[39m\u001b[38;5;124m/\u001b[39m\u001b[38;5;124m'\u001b[39m)[\u001b[38;5;241m7\u001b[39m]\u001b[38;5;241m.\u001b[39msplit(\u001b[38;5;124m'\u001b[39m\u001b[38;5;124m.\u001b[39m\u001b[38;5;124m'\u001b[39m)[\u001b[38;5;241m0\u001b[39m]\n",
      "\u001b[1;31mNameError\u001b[0m: name 'excel_paths' is not defined"
     ]
    }
   ],
   "source": [
    "excel_paths[0].split('/')[7].split('.')[0]"
   ]
  },
  {
   "cell_type": "code",
   "execution_count": 15,
   "metadata": {},
   "outputs": [],
   "source": [
    "from methods import data_retrieval"
   ]
  },
  {
   "cell_type": "code",
   "execution_count": 16,
   "metadata": {},
   "outputs": [
    {
     "name": "stderr",
     "output_type": "stream",
     "text": [
      "c:\\Users\\cameronshaw\\AppData\\Local\\Programs\\Python\\Python311\\Lib\\site-packages\\openpyxl\\reader\\excel.py:249: UserWarning: Cell 'Basis & Credits':S21 is part of a merged range but has a comment which will be removed because merged cells cannot contain any data.\n",
      "  warnings.warn(comment_warning.format(ws.title, c.coordinate))\n",
      "c:\\Users\\cameronshaw\\AppData\\Local\\Programs\\Python\\Python311\\Lib\\site-packages\\openpyxl\\reader\\excel.py:249: UserWarning: Cell 'Basis & Credits':S23 is part of a merged range but has a comment which will be removed because merged cells cannot contain any data.\n",
      "  warnings.warn(comment_warning.format(ws.title, c.coordinate))\n"
     ]
    },
    {
     "name": "stdout",
     "output_type": "stream",
     "text": [
      "returning started:C:/Users/cameronshaw\\Documents/Affordable Research/All Applications Since 2022/secondround_2022/22-600.xlsx\n",
      "data returned:C:/Users/cameronshaw\\Documents/Affordable Research/All Applications Since 2022/secondround_2022/22-600.xlsx\n"
     ]
    },
    {
     "data": {
      "text/plain": [
       "['CA-22-600', 40920, None, None, 'Cable & Storage ', 142258, 183178, 6036658]"
      ]
     },
     "execution_count": 16,
     "metadata": {},
     "output_type": "execute_result"
    }
   ],
   "source": [
    "data_retrieval.get_CTCHC_data(\n",
    "    \"C:/Users/cameronshaw\\Documents/Affordable Research/All Applications Since 2022/secondround_2022/22-600.xlsx\"\n",
    ")"
   ]
  },
  {
   "cell_type": "code",
   "execution_count": 15,
   "metadata": {},
   "outputs": [],
   "source": [
    "Accepted_file_paths = []\n",
    "new_construction_only_filepaths = []\n",
    "for i in Accepted:\n",
    "    stuff = i.split('-')\n",
    "    Accepted_file_paths.append(stuff[1]+'-'+stuff[2])\n",
    "\n",
    "for i in Accepted_new_construction_only:\n",
    "    stuff = i.split('-')\n",
    "    new_construction_only_filepaths.append(stuff[1]+'-'+stuff[2])"
   ]
  },
  {
   "cell_type": "code",
   "execution_count": 19,
   "metadata": {},
   "outputs": [
    {
     "name": "stdout",
     "output_type": "stream",
     "text": [
      "['24-414', '24-424', '24-426', '24-427', '24-428', '24-433', '24-434', '24-435', '24-441', '24-443', '24-455', '24-459', '24-460', '24-467', '24-469', '24-471', '24-472', '24-473', '24-474', '24-476', '24-477', '24-478', '24-481', '24-482', '24-483', '24-485', '24-489', '24-490', '24-492', '24-493', '24-494', '24-497', '24-500', '24-502', '24-503', '24-504', '24-509', '24-511', '24-515', '24-516', '24-521', '24-522', '24-525', '24-527', '24-528', '24-535', '24-539', '24-541', '24-545', '24-552', '24-553', '24-554', '24-564']\n"
     ]
    }
   ],
   "source": [
    "print(new_construction_only_filepaths)"
   ]
  },
  {
   "cell_type": "code",
   "execution_count": 1,
   "metadata": {},
   "outputs": [],
   "source": [
    "thing = 'C:/Users/cameronshaw/Documents/Affordable Research/All Applications Since 2022/second_round_2024'.split(\"/\")"
   ]
  },
  {
   "cell_type": "code",
   "execution_count": 13,
   "metadata": {},
   "outputs": [
    {
     "data": {
      "text/plain": [
       "'24-408.xlsx'"
      ]
     },
     "execution_count": 13,
     "metadata": {},
     "output_type": "execute_result"
    }
   ],
   "source": [
    "files[0]"
   ]
  },
  {
   "cell_type": "code",
   "execution_count": 20,
   "metadata": {},
   "outputs": [],
   "source": [
    "directory = \"C:/Users/cameronshaw/Documents/Affordable Research/All Applications Since 2022/secondround_2022\"\n",
    "folder_name = directory.split('/')[len(directory.split('/')) - 1]"
   ]
  },
  {
   "cell_type": "code",
   "execution_count": 21,
   "metadata": {},
   "outputs": [
    {
     "data": {
      "text/plain": [
       "'secondround_2022'"
      ]
     },
     "execution_count": 21,
     "metadata": {},
     "output_type": "execute_result"
    }
   ],
   "source": [
    "folder_name"
   ]
  },
  {
   "cell_type": "code",
   "execution_count": 19,
   "metadata": {},
   "outputs": [
    {
     "data": {
      "text/plain": [
       "95"
      ]
     },
     "execution_count": 19,
     "metadata": {},
     "output_type": "execute_result"
    }
   ],
   "source": [
    "len(directory)"
   ]
  },
  {
   "cell_type": "code",
   "execution_count": null,
   "metadata": {},
   "outputs": [],
   "source": []
  }
 ],
 "metadata": {
  "kernelspec": {
   "display_name": "Python 3",
   "language": "python",
   "name": "python3"
  },
  "language_info": {
   "codemirror_mode": {
    "name": "ipython",
    "version": 3
   },
   "file_extension": ".py",
   "mimetype": "text/x-python",
   "name": "python",
   "nbconvert_exporter": "python",
   "pygments_lexer": "ipython3",
   "version": "3.11.5"
  }
 },
 "nbformat": 4,
 "nbformat_minor": 2
}
